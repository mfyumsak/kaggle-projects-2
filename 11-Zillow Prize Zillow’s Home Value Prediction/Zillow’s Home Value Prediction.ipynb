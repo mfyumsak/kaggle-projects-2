{
 "cells": [
  {
   "cell_type": "code",
   "execution_count": 1,
   "id": "4df0e210",
   "metadata": {},
   "outputs": [
    {
     "name": "stderr",
     "output_type": "stream",
     "text": [
      "C:\\Users\\MucahitYumusakT\\AppData\\Local\\Temp\\ipykernel_8532\\2857178867.py:7: DtypeWarning: Columns (49) have mixed types. Specify dtype option on import or set low_memory=False.\n",
      "  properties = pd.read_csv(\"properties_2017.csv\")\n"
     ]
    },
    {
     "name": "stdout",
     "output_type": "stream",
     "text": [
      "Train shape: (77613, 3)\n",
      "Properties shape: (2985217, 58)\n",
      "Merged shape: (77613, 60)\n"
     ]
    }
   ],
   "source": [
    "# Load and Merge the Data\n",
    "\n",
    "import pandas as pd\n",
    "\n",
    "# Load datasets\n",
    "train = pd.read_csv(\"train_2017.csv\")\n",
    "properties = pd.read_csv(\"properties_2017.csv\")\n",
    "sample_submission = pd.read_csv(\"sample_submission.csv\")\n",
    "\n",
    "# Merge train and properties on 'parcelid'\n",
    "df = pd.merge(train, properties, on=\"parcelid\", how=\"left\")\n",
    "\n",
    "# Log\n",
    "print(\"Train shape:\", train.shape)\n",
    "print(\"Properties shape:\", properties.shape)\n",
    "print(\"Merged shape:\", df.shape)\n"
   ]
  },
  {
   "cell_type": "code",
   "execution_count": 2,
   "id": "78348f9b",
   "metadata": {},
   "outputs": [
    {
     "data": {
      "text/plain": [
       "buildingclasstypeid         0.999807\n",
       "finishedsquarefeet13        0.999459\n",
       "basementsqft                0.999356\n",
       "storytypeid                 0.999356\n",
       "yardbuildingsqft26          0.999098\n",
       "fireplaceflag               0.997784\n",
       "architecturalstyletypeid    0.997333\n",
       "typeconstructiontypeid      0.997127\n",
       "finishedsquarefeet6         0.995027\n",
       "pooltypeid10                0.994009\n",
       "decktypeid                  0.992089\n",
       "poolsizesum                 0.988803\n",
       "pooltypeid2                 0.986162\n",
       "hashottuborspa              0.980171\n",
       "yardbuildingsqft17          0.969168\n",
       "dtype: float64"
      ]
     },
     "execution_count": 2,
     "metadata": {},
     "output_type": "execute_result"
    }
   ],
   "source": [
    "# Exploratory Data Analysis (EDA)\n",
    "\n",
    "# Missing Value Analysis\n",
    "\n",
    "# Calculate missing value ratio for each column\n",
    "missing_ratio = df.isnull().mean().sort_values(ascending=False)\n",
    "\n",
    "# Display top 15 columns with highest missing ratio\n",
    "missing_ratio.head(15)\n"
   ]
  },
  {
   "cell_type": "markdown",
   "id": "f57c68b8",
   "metadata": {},
   "source": [
    "These columns are almost completely missing, meaning there's a 96–99% data loss. In this case, we'll:<br>\n",
    "Drop High-Null Columns.<br>\n",
    "It's best to exclude columns that are mostly empty from the analysis, such as the following:<br>"
   ]
  },
  {
   "cell_type": "code",
   "execution_count": 3,
   "id": "c0a899f7",
   "metadata": {},
   "outputs": [
    {
     "name": "stdout",
     "output_type": "stream",
     "text": [
      "Dropped 18 columns with more than 96.0% missing values.\n"
     ]
    }
   ],
   "source": [
    "# Drop columns with more than 96% missing values\n",
    "\n",
    "threshold = 0.96\n",
    "cols_to_drop = missing_ratio[missing_ratio > threshold].index.tolist()\n",
    "df.drop(columns=cols_to_drop, inplace=True)\n",
    "\n",
    "print(f\"Dropped {len(cols_to_drop)} columns with more than {threshold*100}% missing values.\")\n"
   ]
  },
  {
   "cell_type": "code",
   "execution_count": 4,
   "id": "ee0bff3c",
   "metadata": {},
   "outputs": [
    {
     "name": "stdout",
     "output_type": "stream",
     "text": [
      "🟦 Numerical columns count: 39\n",
      "🟨 Categorical columns count: 3\n"
     ]
    }
   ],
   "source": [
    "# Identify column types\n",
    "\n",
    "categorical_cols = df.select_dtypes(include=['object', 'category', 'bool']).columns.tolist()\n",
    "numerical_cols = df.select_dtypes(include=['int64', 'float64']).columns.tolist()\n",
    "\n",
    "print(\"🟦 Numerical columns count:\", len(numerical_cols))\n",
    "print(\"🟨 Categorical columns count:\", len(categorical_cols))\n"
   ]
  },
  {
   "cell_type": "code",
   "execution_count": 5,
   "id": "96bfa9fe",
   "metadata": {},
   "outputs": [],
   "source": [
    "# Fill missing numerical values with median\n",
    "for col in numerical_cols:\n",
    "    df[col] = df[col].fillna(df[col].median())\n",
    "\n",
    "# Fill missing categorical values with mode\n",
    "for col in categorical_cols:\n",
    "    df[col] = df[col].fillna(df[col].mode()[0])\n"
   ]
  },
  {
   "cell_type": "code",
   "execution_count": 6,
   "id": "45966085",
   "metadata": {},
   "outputs": [
    {
     "data": {
      "image/png": "[encoded data removed]",
      "text/plain": [
       "<Figure size 1000x500 with 1 Axes>"
      ]
     },
     "metadata": {},
     "output_type": "display_data"
    },
    {
     "name": "stdout",
     "output_type": "stream",
     "text": [
      "count    77613.000000\n",
      "mean         0.016755\n",
      "std          0.170887\n",
      "min         -4.655420\n",
      "25%         -0.024325\n",
      "50%          0.006670\n",
      "75%          0.039295\n",
      "max          5.262999\n",
      "Name: logerror, dtype: float64\n"
     ]
    }
   ],
   "source": [
    "import matplotlib.pyplot as plt\n",
    "import seaborn as sns\n",
    "\n",
    "# Distribution plot of logerror\n",
    "plt.figure(figsize=(10, 5))\n",
    "sns.histplot(df['logerror'], kde=True, bins=100, color='royalblue')\n",
    "plt.title(\"Distribution of Log Error\")\n",
    "plt.xlabel(\"Log Error\")\n",
    "plt.ylabel(\"Frequency\")\n",
    "plt.show()\n",
    "\n",
    "# Basic statistics\n",
    "print(df['logerror'].describe())\n"
   ]
  },
  {
   "cell_type": "markdown",
   "id": "14fab5e3",
   "metadata": {},
   "source": [
    "The distribution of the target variable, Logerror, is concentrated in the center, but there are a few outliers at the edges. Such outliers can degrade the model's performance."
   ]
  },
  {
   "cell_type": "code",
   "execution_count": 7,
   "id": "d7cbef4f",
   "metadata": {},
   "outputs": [],
   "source": [
    "df = df[df['logerror'].between(-0.4, 0.4)]\n"
   ]
  },
  {
   "cell_type": "code",
   "execution_count": 8,
   "id": "d9d335e8",
   "metadata": {},
   "outputs": [
    {
     "name": "stdout",
     "output_type": "stream",
     "text": [
      "✅ Filtered DataFrame shape: (75868, 42)\n"
     ]
    }
   ],
   "source": [
    "print(\"✅ Filtered DataFrame shape:\", df.shape)"
   ]
  },
  {
   "cell_type": "code",
   "execution_count": 9,
   "id": "4ccbafc2",
   "metadata": {},
   "outputs": [
    {
     "name": "stderr",
     "output_type": "stream",
     "text": [
      "C:\\Users\\MucahitYumusakT\\AppData\\Local\\Temp\\ipykernel_8532\\1425225333.py:25: FutureWarning: \n",
      "\n",
      "Passing `palette` without assigning `hue` is deprecated and will be removed in v0.14.0. Assign the `y` variable to `hue` and set `legend=False` for the same effect.\n",
      "\n",
      "  sns.barplot(x=top_features.values, y=top_features.index, palette=\"coolwarm\")\n"
     ]
    },
    {
     "data": {
      "image/png": "[encoded data removed]",
      "text/plain": [
       "<Figure size 1000x600 with 1 Axes>"
      ]
     },
     "metadata": {},
     "output_type": "display_data"
    }
   ],
   "source": [
    "# Correlation Analysis\n",
    "\n",
    "import seaborn as sns\n",
    "import matplotlib.pyplot as plt\n",
    "import numpy as np\n",
    "\n",
    "# Select only numeric columns\n",
    "numeric_df = df.select_dtypes(include=[np.number])\n",
    "\n",
    "# Compute correlation matrix\n",
    "correlation_matrix = numeric_df.corr()\n",
    "\n",
    "# Get correlation with target\n",
    "logerror_corr = correlation_matrix['logerror'].drop('logerror').sort_values(ascending=False)\n",
    "\n",
    "# Show top positively and negatively correlated features\n",
    "top_positive = logerror_corr.head(5)\n",
    "top_negative = logerror_corr.tail(5)\n",
    "\n",
    "# Combine for visualization\n",
    "top_features = pd.concat([top_positive, top_negative])\n",
    "\n",
    "# Plot\n",
    "plt.figure(figsize=(10, 6))\n",
    "sns.barplot(x=top_features.values, y=top_features.index, palette=\"coolwarm\")\n",
    "plt.title(\"Top Features Correlated with Log Error\")\n",
    "plt.xlabel(\"Correlation with Log Error\")\n",
    "plt.ylabel(\"Features\")\n",
    "plt.tight_layout()\n",
    "plt.show()\n"
   ]
  },
  {
   "cell_type": "markdown",
   "id": "44cace67",
   "metadata": {},
   "source": [
    "#### The most positively correlated variables\n",
    "- finishedsquarefeet12\n",
    "\n",
    "- calculatedfinishedsquarefeet\n",
    "\n",
    "- bathroomcnt\n",
    "\n",
    "- calculatedbathnbr\n",
    "\n",
    "- fullbathcnt\n",
    "\n",
    "#### The most negatively correlated variables\n",
    "- heatingorsystemtypeid\n",
    "\n",
    "- regionidcounty"
   ]
  },
  {
   "cell_type": "code",
   "execution_count": 10,
   "id": "25963ed2",
   "metadata": {},
   "outputs": [],
   "source": [
    "# Train/Test Split + Scaling\n",
    "\n",
    "from sklearn.model_selection import train_test_split\n",
    "from sklearn.preprocessing import StandardScaler\n",
    "\n",
    "# Drop target\n",
    "X = df.drop(['logerror', 'parcelid', 'transactiondate'], axis=1)\n",
    "y = df[\"logerror\"]\n",
    "\n",
    "# Drop non-numeric columns (remove strings, dates, etc.)\n",
    "X_numeric = X.select_dtypes(include=['int64', 'float64'])\n",
    "\n",
    "# Train-Test Split (80% train, 20% test)\n",
    "X_train, X_test, y_train, y_test = train_test_split(\n",
    "    X_numeric, y, test_size=0.2, random_state=42\n",
    ")\n",
    "\n",
    "# Feature Scaling with StandardScaler\n",
    "scaler = StandardScaler()\n",
    "X_train_scaled = scaler.fit_transform(X_train)\n",
    "X_test_scaled = scaler.transform(X_test)\n"
   ]
  },
  {
   "cell_type": "code",
   "execution_count": 11,
   "id": "cef91df5",
   "metadata": {},
   "outputs": [
    {
     "name": "stdout",
     "output_type": "stream",
     "text": [
      "LinearRegression RMSLE: 0.0826\n",
      "Ridge RMSLE: 0.0826\n",
      "Lasso RMSLE: 0.0829\n",
      "RandomForest RMSLE: 0.0833\n",
      "XGBoost RMSLE: 0.0830\n"
     ]
    }
   ],
   "source": [
    "# Model Training & Evaluation \n",
    "\n",
    "from sklearn.linear_model import LinearRegression, Ridge, Lasso\n",
    "from sklearn.ensemble import RandomForestRegressor\n",
    "from sklearn.metrics import mean_squared_log_error\n",
    "import xgboost as xgb\n",
    "\n",
    "models = {\n",
    "    \"LinearRegression\": LinearRegression(),\n",
    "    \"Ridge\": Ridge(alpha=1.0),\n",
    "    \"Lasso\": Lasso(alpha=0.1),\n",
    "    \"RandomForest\": RandomForestRegressor(n_estimators=100, random_state=42),\n",
    "    \"XGBoost\": xgb.XGBRegressor(objective='reg:squarederror', random_state=42)\n",
    "}\n",
    "\n",
    "results = {}\n",
    "\n",
    "for name, model in models.items():\n",
    "    model.fit(X_train_scaled, y_train)\n",
    "    preds = model.predict(X_test_scaled)\n",
    "    preds = np.maximum(preds, 0)  # RMSLE requires non-negative predictions\n",
    "    rmsle = np.sqrt(mean_squared_log_error(y_test, preds))\n",
    "    results[name] = rmsle\n",
    "    print(f\"{name} RMSLE: {rmsle:.4f}\")\n"
   ]
  },
  {
   "cell_type": "markdown",
   "id": "42ff0a18",
   "metadata": {},
   "source": [
    "#### Evaluation:\n",
    "- LinearRegression and Ridge performed best.\n",
    "\n",
    "- XGBoost and Random Forest, despite being more complex, did not perform better—indicating that the dataset is highly linear.\n",
    "\n",
    "- Ridge is preferable because it includes regularization and is more robust to overfitting."
   ]
  },
  {
   "cell_type": "code",
   "execution_count": 15,
   "id": "8ba6477e",
   "metadata": {},
   "outputs": [
    {
     "name": "stdout",
     "output_type": "stream",
     "text": [
      "✅ Model saved as linear_model.joblib\n"
     ]
    }
   ],
   "source": [
    "from sklearn.linear_model import LinearRegression\n",
    "import joblib\n",
    "\n",
    "# ✅ Model create\n",
    "lr = LinearRegression()\n",
    "\n",
    "# ✅ Modeli train\n",
    "lr.fit(X_train_scaled, y_train)\n",
    "\n",
    "# ✅ save\n",
    "joblib.dump(lr, \"linear_model.joblib\")\n",
    "print(\"✅ Model saved as linear_model.joblib\")\n"
   ]
  },
  {
   "cell_type": "code",
   "execution_count": 24,
   "id": "bf257a55",
   "metadata": {},
   "outputs": [],
   "source": [
    "import joblib\n",
    "import pickle\n",
    "\n",
    "# after saving model\n",
    "joblib.dump(model, \"linear_model.joblib\")\n",
    "\n",
    "# model features save\n",
    "with open(\"model_features.pkl\", \"wb\") as f:\n",
    "    pickle.dump(X.columns.tolist(), f)\n"
   ]
  },
  {
   "cell_type": "code",
   "execution_count": null,
   "id": "aaea2c6a",
   "metadata": {},
   "outputs": [],
   "source": []
  }
 ],
 "metadata": {
  "kernelspec": {
   "display_name": "Python 3 (ipykernel)",
   "language": "python",
   "name": "python3"
  },
  "language_info": {
   "codemirror_mode": {
    "name": "ipython",
    "version": 3
   },
   "file_extension": ".py",
   "mimetype": "text/x-python",
   "name": "python",
   "nbconvert_exporter": "python",
   "pygments_lexer": "ipython3",
   "version": "3.12.3"
  }
 },
 "nbformat": 4,
 "nbformat_minor": 5
}

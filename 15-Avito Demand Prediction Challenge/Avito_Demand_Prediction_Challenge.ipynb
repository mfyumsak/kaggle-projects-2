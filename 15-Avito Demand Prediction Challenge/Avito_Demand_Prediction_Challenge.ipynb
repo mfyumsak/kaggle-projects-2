{
  "nbformat": 4,
  "nbformat_minor": 0,
  "metadata": {
    "colab": {
      "provenance": [],
      "machine_shape": "hm",
      "gpuType": "A100"
    },
    "kernelspec": {
      "name": "python3",
      "display_name": "Python 3"
    },
    "language_info": {
      "name": "python"
    },
    "accelerator": "GPU"
  },
  "cells": [
    {
      "cell_type": "code",
      "execution_count": 2,
      "metadata": {
        "id": "2Ux3XXzBtrJF"
      },
      "outputs": [],
      "source": [
        "# from google.colab import files\n",
        "# files.upload()  # upload kaggle.json here\n"
      ]
    },
    {
      "cell_type": "code",
      "source": [
        "# Setup kaggle credentials\n",
        "!mkdir -p ~/.kaggle\n",
        "!cp kaggle.json ~/.kaggle/\n",
        "!chmod 600 ~/.kaggle/kaggle.json\n",
        "\n",
        "# Install kaggle API client\n",
        "!pip install -q kaggle\n"
      ],
      "metadata": {
        "id": "KtY7NJw1uFtw"
      },
      "execution_count": 3,
      "outputs": []
    },
    {
      "cell_type": "code",
      "source": [
        "# Download competition data\n",
        "\n",
        "!kaggle competitions download -c avito-demand-prediction -f train.csv\n",
        "!kaggle competitions download -c avito-demand-prediction -f test.csv\n",
        "!kaggle competitions download -c avito-demand-prediction -f sample_submission.csv\n"
      ],
      "metadata": {
        "colab": {
          "base_uri": "https://localhost:8080/"
        },
        "id": "vPNAfggdulyb",
        "outputId": "82c05174-e4e1-4891-f13a-e7c6110b7958"
      },
      "execution_count": 5,
      "outputs": [
        {
          "output_type": "stream",
          "name": "stdout",
          "text": [
            "Downloading train.csv to /content\n",
            " 81% 258M/318M [00:00<00:00, 1.35GB/s]\n",
            "100% 318M/318M [00:00<00:00, 1.34GB/s]\n",
            "Downloading test.csv to /content\n",
            "  0% 0.00/111M [00:00<?, ?B/s]\n",
            "100% 111M/111M [00:00<00:00, 1.35GB/s]\n",
            "Downloading sample_submission.csv to /content\n",
            "  0% 0.00/3.95M [00:00<?, ?B/s]\n",
            "100% 3.95M/3.95M [00:00<00:00, 825MB/s]\n"
          ]
        }
      ]
    },
    {
      "cell_type": "code",
      "source": [
        "import zipfile\n",
        "\n",
        "# Unzip train.csv.zip\n",
        "with zipfile.ZipFile('/content/train.csv', 'r') as zip_ref:\n",
        "    zip_ref.extractall('/content/avito_data')\n",
        "\n",
        "# Unzip test.csv.zip\n",
        "with zipfile.ZipFile('/content/test.csv', 'r') as zip_ref:\n",
        "    zip_ref.extractall('/content/avito_data')\n",
        "\n",
        "# Unzip sample_submission.csv.zip\n",
        "with zipfile.ZipFile('/content/sample_submission.csv', 'r') as zip_ref:\n",
        "    zip_ref.extractall('/content/avito_data')\n"
      ],
      "metadata": {
        "id": "8I4-tTG70qTJ"
      },
      "execution_count": 22,
      "outputs": []
    },
    {
      "cell_type": "code",
      "source": [
        "train = pd.read_csv('/content/avito_data/train.csv')\n",
        "test = pd.read_csv('/content/avito_data/test.csv')\n",
        "sample_submission = pd.read_csv('/content/avito_data/sample_submission.csv')\n"
      ],
      "metadata": {
        "id": "YucVZ8G0yPAb"
      },
      "execution_count": 23,
      "outputs": []
    },
    {
      "cell_type": "code",
      "source": [
        "print(train.shape)\n",
        "train.head()\n"
      ],
      "metadata": {
        "colab": {
          "base_uri": "https://localhost:8080/",
          "height": 401
        },
        "id": "lfc2cSut2WpH",
        "outputId": "b45101ff-6b70-4da8-96e4-ee003792fea2"
      },
      "execution_count": 24,
      "outputs": [
        {
          "output_type": "stream",
          "name": "stdout",
          "text": [
            "(1503424, 18)\n"
          ]
        },
        {
          "output_type": "execute_result",
          "data": {
            "text/plain": [
              "        item_id       user_id                 region              city  \\\n",
              "0  b912c3c6a6ad  e00f8ff2eaf9   Свердловская область      Екатеринбург   \n",
              "1  2dac0150717d  39aeb48f0017      Самарская область            Самара   \n",
              "2  ba83aefab5dc  91e2f88dd6e3     Ростовская область    Ростов-на-Дону   \n",
              "3  02996f1dd2ea  bf5cccea572d              Татарстан  Набережные Челны   \n",
              "4  7c90be56d2ab  ef50846afc0b  Волгоградская область         Волгоград   \n",
              "\n",
              "  parent_category_name               category_name  \\\n",
              "0          Личные вещи  Товары для детей и игрушки   \n",
              "1      Для дома и дачи           Мебель и интерьер   \n",
              "2  Бытовая электроника               Аудио и видео   \n",
              "3          Личные вещи  Товары для детей и игрушки   \n",
              "4            Транспорт                  Автомобили   \n",
              "\n",
              "                       param_1     param_2 param_3                  title  \\\n",
              "0    Постельные принадлежности         NaN     NaN  Кокоби(кокон для сна)   \n",
              "1                       Другое         NaN     NaN      Стойка для Одежды   \n",
              "2  Видео, DVD и Blu-ray плееры         NaN     NaN         Philips bluray   \n",
              "3         Автомобильные кресла         NaN     NaN             Автокресло   \n",
              "4                   С пробегом  ВАЗ (LADA)    2110         ВАЗ 2110, 2003   \n",
              "\n",
              "                                         description    price  \\\n",
              "0  Кокон для сна малыша,пользовались меньше месяц...    400.0   \n",
              "1          Стойка для одежды, под вешалки. С бутика.   3000.0   \n",
              "2  В хорошем состоянии, домашний кинотеатр с blu ...   4000.0   \n",
              "3                             Продам кресло от0-25кг   2200.0   \n",
              "4                           Все вопросы по телефону.  40000.0   \n",
              "\n",
              "   item_seq_number activation_date user_type  \\\n",
              "0                2      2017-03-28   Private   \n",
              "1               19      2017-03-26   Private   \n",
              "2                9      2017-03-20   Private   \n",
              "3              286      2017-03-25   Company   \n",
              "4                3      2017-03-16   Private   \n",
              "\n",
              "                                               image  image_top_1  \\\n",
              "0  d10c7e016e03247a3bf2d13348fe959fe6f436c1caf64c...       1008.0   \n",
              "1  79c9392cc51a9c81c6eb91eceb8e552171db39d7142700...        692.0   \n",
              "2  b7f250ee3f39e1fedd77c141f273703f4a9be59db4b48a...       3032.0   \n",
              "3  e6ef97e0725637ea84e3d203e82dadb43ed3cc0a1c8413...        796.0   \n",
              "4  54a687a3a0fc1d68aed99bdaaf551c5c70b761b16fd0a2...       2264.0   \n",
              "\n",
              "   deal_probability  \n",
              "0           0.12789  \n",
              "1           0.00000  \n",
              "2           0.43177  \n",
              "3           0.80323  \n",
              "4           0.20797  "
            ],
            "text/html": [
              "\n",
              "  <div id=\"df-04c19183-0db6-4467-8263-7957378f4bb6\" class=\"colab-df-container\">\n",
              "    <div>\n",
              "<style scoped>\n",
              "    .dataframe tbody tr th:only-of-type {\n",
              "        vertical-align: middle;\n",
              "    }\n",
              "\n",
              "    .dataframe tbody tr th {\n",
              "        vertical-align: top;\n",
              "    }\n",
              "\n",
              "    .dataframe thead th {\n",
              "        text-align: right;\n",
              "    }\n",
              "</style>\n",
              "<table border=\"1\" class=\"dataframe\">\n",
              "  <thead>\n",
              "    <tr style=\"text-align: right;\">\n",
              "      <th></th>\n",
              "      <th>item_id</th>\n",
              "      <th>user_id</th>\n",
              "      <th>region</th>\n",
              "      <th>city</th>\n",
              "      <th>parent_category_name</th>\n",
              "      <th>category_name</th>\n",
              "      <th>param_1</th>\n",
              "      <th>param_2</th>\n",
              "      <th>param_3</th>\n",
              "      <th>title</th>\n",
              "      <th>description</th>\n",
              "      <th>price</th>\n",
              "      <th>item_seq_number</th>\n",
              "      <th>activation_date</th>\n",
              "      <th>user_type</th>\n",
              "      <th>image</th>\n",
              "      <th>image_top_1</th>\n",
              "      <th>deal_probability</th>\n",
              "    </tr>\n",
              "  </thead>\n",
              "  <tbody>\n",
              "    <tr>\n",
              "      <th>0</th>\n",
              "      <td>b912c3c6a6ad</td>\n",
              "      <td>e00f8ff2eaf9</td>\n",
              "      <td>Свердловская область</td>\n",
              "      <td>Екатеринбург</td>\n",
              "      <td>Личные вещи</td>\n",
              "      <td>Товары для детей и игрушки</td>\n",
              "      <td>Постельные принадлежности</td>\n",
              "      <td>NaN</td>\n",
              "      <td>NaN</td>\n",
              "      <td>Кокоби(кокон для сна)</td>\n",
              "      <td>Кокон для сна малыша,пользовались меньше месяц...</td>\n",
              "      <td>400.0</td>\n",
              "      <td>2</td>\n",
              "      <td>2017-03-28</td>\n",
              "      <td>Private</td>\n",
              "      <td>d10c7e016e03247a3bf2d13348fe959fe6f436c1caf64c...</td>\n",
              "      <td>1008.0</td>\n",
              "      <td>0.12789</td>\n",
              "    </tr>\n",
              "    <tr>\n",
              "      <th>1</th>\n",
              "      <td>2dac0150717d</td>\n",
              "      <td>39aeb48f0017</td>\n",
              "      <td>Самарская область</td>\n",
              "      <td>Самара</td>\n",
              "      <td>Для дома и дачи</td>\n",
              "      <td>Мебель и интерьер</td>\n",
              "      <td>Другое</td>\n",
              "      <td>NaN</td>\n",
              "      <td>NaN</td>\n",
              "      <td>Стойка для Одежды</td>\n",
              "      <td>Стойка для одежды, под вешалки. С бутика.</td>\n",
              "      <td>3000.0</td>\n",
              "      <td>19</td>\n",
              "      <td>2017-03-26</td>\n",
              "      <td>Private</td>\n",
              "      <td>79c9392cc51a9c81c6eb91eceb8e552171db39d7142700...</td>\n",
              "      <td>692.0</td>\n",
              "      <td>0.00000</td>\n",
              "    </tr>\n",
              "    <tr>\n",
              "      <th>2</th>\n",
              "      <td>ba83aefab5dc</td>\n",
              "      <td>91e2f88dd6e3</td>\n",
              "      <td>Ростовская область</td>\n",
              "      <td>Ростов-на-Дону</td>\n",
              "      <td>Бытовая электроника</td>\n",
              "      <td>Аудио и видео</td>\n",
              "      <td>Видео, DVD и Blu-ray плееры</td>\n",
              "      <td>NaN</td>\n",
              "      <td>NaN</td>\n",
              "      <td>Philips bluray</td>\n",
              "      <td>В хорошем состоянии, домашний кинотеатр с blu ...</td>\n",
              "      <td>4000.0</td>\n",
              "      <td>9</td>\n",
              "      <td>2017-03-20</td>\n",
              "      <td>Private</td>\n",
              "      <td>b7f250ee3f39e1fedd77c141f273703f4a9be59db4b48a...</td>\n",
              "      <td>3032.0</td>\n",
              "      <td>0.43177</td>\n",
              "    </tr>\n",
              "    <tr>\n",
              "      <th>3</th>\n",
              "      <td>02996f1dd2ea</td>\n",
              "      <td>bf5cccea572d</td>\n",
              "      <td>Татарстан</td>\n",
              "      <td>Набережные Челны</td>\n",
              "      <td>Личные вещи</td>\n",
              "      <td>Товары для детей и игрушки</td>\n",
              "      <td>Автомобильные кресла</td>\n",
              "      <td>NaN</td>\n",
              "      <td>NaN</td>\n",
              "      <td>Автокресло</td>\n",
              "      <td>Продам кресло от0-25кг</td>\n",
              "      <td>2200.0</td>\n",
              "      <td>286</td>\n",
              "      <td>2017-03-25</td>\n",
              "      <td>Company</td>\n",
              "      <td>e6ef97e0725637ea84e3d203e82dadb43ed3cc0a1c8413...</td>\n",
              "      <td>796.0</td>\n",
              "      <td>0.80323</td>\n",
              "    </tr>\n",
              "    <tr>\n",
              "      <th>4</th>\n",
              "      <td>7c90be56d2ab</td>\n",
              "      <td>ef50846afc0b</td>\n",
              "      <td>Волгоградская область</td>\n",
              "      <td>Волгоград</td>\n",
              "      <td>Транспорт</td>\n",
              "      <td>Автомобили</td>\n",
              "      <td>С пробегом</td>\n",
              "      <td>ВАЗ (LADA)</td>\n",
              "      <td>2110</td>\n",
              "      <td>ВАЗ 2110, 2003</td>\n",
              "      <td>Все вопросы по телефону.</td>\n",
              "      <td>40000.0</td>\n",
              "      <td>3</td>\n",
              "      <td>2017-03-16</td>\n",
              "      <td>Private</td>\n",
              "      <td>54a687a3a0fc1d68aed99bdaaf551c5c70b761b16fd0a2...</td>\n",
              "      <td>2264.0</td>\n",
              "      <td>0.20797</td>\n",
              "    </tr>\n",
              "  </tbody>\n",
              "</table>\n",
              "</div>\n",
              "    <div class=\"colab-df-buttons\">\n",
              "\n",
              "  <div class=\"colab-df-container\">\n",
              "    <button class=\"colab-df-convert\" onclick=\"convertToInteractive('df-04c19183-0db6-4467-8263-7957378f4bb6')\"\n",
              "            title=\"Convert this dataframe to an interactive table.\"\n",
              "            style=\"display:none;\">\n",
              "\n",
              "  <svg xmlns=\"http://www.w3.org/2000/svg\" height=\"24px\" viewBox=\"0 -960 960 960\">\n",
              "    <path d=\"M120-120v-720h720v720H120Zm60-500h600v-160H180v160Zm220 220h160v-160H400v160Zm0 220h160v-160H400v160ZM180-400h160v-160H180v160Zm440 0h160v-160H620v160ZM180-180h160v-160H180v160Zm440 0h160v-160H620v160Z\"/>\n",
              "  </svg>\n",
              "    </button>\n",
              "\n",
              "  <style>\n",
              "    .colab-df-container {\n",
              "      display:flex;\n",
              "      gap: 12px;\n",
              "    }\n",
              "\n",
              "    .colab-df-convert {\n",
              "      background-color: #E8F0FE;\n",
              "      border: none;\n",
              "      border-radius: 50%;\n",
              "      cursor: pointer;\n",
              "      display: none;\n",
              "      fill: #1967D2;\n",
              "      height: 32px;\n",
              "      padding: 0 0 0 0;\n",
              "      width: 32px;\n",
              "    }\n",
              "\n",
              "    .colab-df-convert:hover {\n",
              "      background-color: #E2EBFA;\n",
              "      box-shadow: 0px 1px 2px rgba(60, 64, 67, 0.3), 0px 1px 3px 1px rgba(60, 64, 67, 0.15);\n",
              "      fill: #174EA6;\n",
              "    }\n",
              "\n",
              "    .colab-df-buttons div {\n",
              "      margin-bottom: 4px;\n",
              "    }\n",
              "\n",
              "    [theme=dark] .colab-df-convert {\n",
              "      background-color: #3B4455;\n",
              "      fill: #D2E3FC;\n",
              "    }\n",
              "\n",
              "    [theme=dark] .colab-df-convert:hover {\n",
              "      background-color: #434B5C;\n",
              "      box-shadow: 0px 1px 3px 1px rgba(0, 0, 0, 0.15);\n",
              "      filter: drop-shadow(0px 1px 2px rgba(0, 0, 0, 0.3));\n",
              "      fill: #FFFFFF;\n",
              "    }\n",
              "  </style>\n",
              "\n",
              "    <script>\n",
              "      const buttonEl =\n",
              "        document.querySelector('#df-04c19183-0db6-4467-8263-7957378f4bb6 button.colab-df-convert');\n",
              "      buttonEl.style.display =\n",
              "        google.colab.kernel.accessAllowed ? 'block' : 'none';\n",
              "\n",
              "      async function convertToInteractive(key) {\n",
              "        const element = document.querySelector('#df-04c19183-0db6-4467-8263-7957378f4bb6');\n",
              "        const dataTable =\n",
              "          await google.colab.kernel.invokeFunction('convertToInteractive',\n",
              "                                                    [key], {});\n",
              "        if (!dataTable) return;\n",
              "\n",
              "        const docLinkHtml = 'Like what you see? Visit the ' +\n",
              "          '<a target=\"_blank\" href=https://colab.research.google.com/notebooks/data_table.ipynb>data table notebook</a>'\n",
              "          + ' to learn more about interactive tables.';\n",
              "        element.innerHTML = '';\n",
              "        dataTable['output_type'] = 'display_data';\n",
              "        await google.colab.output.renderOutput(dataTable, element);\n",
              "        const docLink = document.createElement('div');\n",
              "        docLink.innerHTML = docLinkHtml;\n",
              "        element.appendChild(docLink);\n",
              "      }\n",
              "    </script>\n",
              "  </div>\n",
              "\n",
              "\n",
              "    <div id=\"df-a5bb81e9-4b01-415a-a638-91a4612eee26\">\n",
              "      <button class=\"colab-df-quickchart\" onclick=\"quickchart('df-a5bb81e9-4b01-415a-a638-91a4612eee26')\"\n",
              "                title=\"Suggest charts\"\n",
              "                style=\"display:none;\">\n",
              "\n",
              "<svg xmlns=\"http://www.w3.org/2000/svg\" height=\"24px\"viewBox=\"0 0 24 24\"\n",
              "     width=\"24px\">\n",
              "    <g>\n",
              "        <path d=\"M19 3H5c-1.1 0-2 .9-2 2v14c0 1.1.9 2 2 2h14c1.1 0 2-.9 2-2V5c0-1.1-.9-2-2-2zM9 17H7v-7h2v7zm4 0h-2V7h2v10zm4 0h-2v-4h2v4z\"/>\n",
              "    </g>\n",
              "</svg>\n",
              "      </button>\n",
              "\n",
              "<style>\n",
              "  .colab-df-quickchart {\n",
              "      --bg-color: #E8F0FE;\n",
              "      --fill-color: #1967D2;\n",
              "      --hover-bg-color: #E2EBFA;\n",
              "      --hover-fill-color: #174EA6;\n",
              "      --disabled-fill-color: #AAA;\n",
              "      --disabled-bg-color: #DDD;\n",
              "  }\n",
              "\n",
              "  [theme=dark] .colab-df-quickchart {\n",
              "      --bg-color: #3B4455;\n",
              "      --fill-color: #D2E3FC;\n",
              "      --hover-bg-color: #434B5C;\n",
              "      --hover-fill-color: #FFFFFF;\n",
              "      --disabled-bg-color: #3B4455;\n",
              "      --disabled-fill-color: #666;\n",
              "  }\n",
              "\n",
              "  .colab-df-quickchart {\n",
              "    background-color: var(--bg-color);\n",
              "    border: none;\n",
              "    border-radius: 50%;\n",
              "    cursor: pointer;\n",
              "    display: none;\n",
              "    fill: var(--fill-color);\n",
              "    height: 32px;\n",
              "    padding: 0;\n",
              "    width: 32px;\n",
              "  }\n",
              "\n",
              "  .colab-df-quickchart:hover {\n",
              "    background-color: var(--hover-bg-color);\n",
              "    box-shadow: 0 1px 2px rgba(60, 64, 67, 0.3), 0 1px 3px 1px rgba(60, 64, 67, 0.15);\n",
              "    fill: var(--button-hover-fill-color);\n",
              "  }\n",
              "\n",
              "  .colab-df-quickchart-complete:disabled,\n",
              "  .colab-df-quickchart-complete:disabled:hover {\n",
              "    background-color: var(--disabled-bg-color);\n",
              "    fill: var(--disabled-fill-color);\n",
              "    box-shadow: none;\n",
              "  }\n",
              "\n",
              "  .colab-df-spinner {\n",
              "    border: 2px solid var(--fill-color);\n",
              "    border-color: transparent;\n",
              "    border-bottom-color: var(--fill-color);\n",
              "    animation:\n",
              "      spin 1s steps(1) infinite;\n",
              "  }\n",
              "\n",
              "  @keyframes spin {\n",
              "    0% {\n",
              "      border-color: transparent;\n",
              "      border-bottom-color: var(--fill-color);\n",
              "      border-left-color: var(--fill-color);\n",
              "    }\n",
              "    20% {\n",
              "      border-color: transparent;\n",
              "      border-left-color: var(--fill-color);\n",
              "      border-top-color: var(--fill-color);\n",
              "    }\n",
              "    30% {\n",
              "      border-color: transparent;\n",
              "      border-left-color: var(--fill-color);\n",
              "      border-top-color: var(--fill-color);\n",
              "      border-right-color: var(--fill-color);\n",
              "    }\n",
              "    40% {\n",
              "      border-color: transparent;\n",
              "      border-right-color: var(--fill-color);\n",
              "      border-top-color: var(--fill-color);\n",
              "    }\n",
              "    60% {\n",
              "      border-color: transparent;\n",
              "      border-right-color: var(--fill-color);\n",
              "    }\n",
              "    80% {\n",
              "      border-color: transparent;\n",
              "      border-right-color: var(--fill-color);\n",
              "      border-bottom-color: var(--fill-color);\n",
              "    }\n",
              "    90% {\n",
              "      border-color: transparent;\n",
              "      border-bottom-color: var(--fill-color);\n",
              "    }\n",
              "  }\n",
              "</style>\n",
              "\n",
              "      <script>\n",
              "        async function quickchart(key) {\n",
              "          const quickchartButtonEl =\n",
              "            document.querySelector('#' + key + ' button');\n",
              "          quickchartButtonEl.disabled = true;  // To prevent multiple clicks.\n",
              "          quickchartButtonEl.classList.add('colab-df-spinner');\n",
              "          try {\n",
              "            const charts = await google.colab.kernel.invokeFunction(\n",
              "                'suggestCharts', [key], {});\n",
              "          } catch (error) {\n",
              "            console.error('Error during call to suggestCharts:', error);\n",
              "          }\n",
              "          quickchartButtonEl.classList.remove('colab-df-spinner');\n",
              "          quickchartButtonEl.classList.add('colab-df-quickchart-complete');\n",
              "        }\n",
              "        (() => {\n",
              "          let quickchartButtonEl =\n",
              "            document.querySelector('#df-a5bb81e9-4b01-415a-a638-91a4612eee26 button');\n",
              "          quickchartButtonEl.style.display =\n",
              "            google.colab.kernel.accessAllowed ? 'block' : 'none';\n",
              "        })();\n",
              "      </script>\n",
              "    </div>\n",
              "\n",
              "    </div>\n",
              "  </div>\n"
            ],
            "application/vnd.google.colaboratory.intrinsic+json": {
              "type": "dataframe",
              "variable_name": "train"
            }
          },
          "metadata": {},
          "execution_count": 24
        }
      ]
    },
    {
      "cell_type": "code",
      "source": [
        "# Dataset Overview & Missing Values\n",
        "\n",
        "# Overview of dataset structure\n",
        "train.info()\n",
        "\n",
        "# Missing value percentage\n",
        "missing = train.isnull().mean().sort_values(ascending=False) * 100\n",
        "print(\"\\nMissing Values (%):\")\n",
        "print(missing[missing > 0])\n"
      ],
      "metadata": {
        "colab": {
          "base_uri": "https://localhost:8080/"
        },
        "id": "sefhOULc3HKM",
        "outputId": "e29e5d7a-6ec7-4347-8663-2277753546ad"
      },
      "execution_count": 25,
      "outputs": [
        {
          "output_type": "stream",
          "name": "stdout",
          "text": [
            "<class 'pandas.core.frame.DataFrame'>\n",
            "RangeIndex: 1503424 entries, 0 to 1503423\n",
            "Data columns (total 18 columns):\n",
            " #   Column                Non-Null Count    Dtype  \n",
            "---  ------                --------------    -----  \n",
            " 0   item_id               1503424 non-null  object \n",
            " 1   user_id               1503424 non-null  object \n",
            " 2   region                1503424 non-null  object \n",
            " 3   city                  1503424 non-null  object \n",
            " 4   parent_category_name  1503424 non-null  object \n",
            " 5   category_name         1503424 non-null  object \n",
            " 6   param_1               1441848 non-null  object \n",
            " 7   param_2               848882 non-null   object \n",
            " 8   param_3               640859 non-null   object \n",
            " 9   title                 1503424 non-null  object \n",
            " 10  description           1387148 non-null  object \n",
            " 11  price                 1418062 non-null  float64\n",
            " 12  item_seq_number       1503424 non-null  int64  \n",
            " 13  activation_date       1503424 non-null  object \n",
            " 14  user_type             1503424 non-null  object \n",
            " 15  image                 1390836 non-null  object \n",
            " 16  image_top_1           1390836 non-null  float64\n",
            " 17  deal_probability      1503424 non-null  float64\n",
            "dtypes: float64(3), int64(1), object(14)\n",
            "memory usage: 206.5+ MB\n",
            "\n",
            "Missing Values (%):\n",
            "param_3        57.373369\n",
            "param_2        43.536753\n",
            "description     7.734079\n",
            "image           7.488772\n",
            "image_top_1     7.488772\n",
            "price           5.677839\n",
            "param_1         4.095718\n",
            "dtype: float64\n"
          ]
        }
      ]
    },
    {
      "cell_type": "code",
      "source": [
        "# Distribution of Target Variable – deal_probability\n",
        "\n",
        "import matplotlib.pyplot as plt\n",
        "import seaborn as sns\n",
        "\n",
        "plt.figure(figsize=(10, 5))\n",
        "sns.histplot(train['deal_probability'], bins=50, kde=True, color='blue')\n",
        "plt.title('Distribution of deal_probability')\n",
        "plt.xlabel('deal_probability')\n",
        "plt.ylabel('Count')\n",
        "plt.grid(True)\n",
        "plt.show()\n"
      ],
      "metadata": {
        "colab": {
          "base_uri": "https://localhost:8080/",
          "height": 496
        },
        "id": "PQWcOjna3W2t",
        "outputId": "8fe81dd8-cf00-43d4-ca21-3629dd526a2f"
      },
      "execution_count": 26,
      "outputs": [
        {
          "output_type": "display_data",
          "data": {
            "text/plain": [
              "<Figure size 1000x500 with 1 Axes>"
            ],
            "image/png": "[encoded data removed]"
          },
          "metadata": {}
        }
      ]
    },
    {
      "cell_type": "code",
      "source": [
        "# Category Column Exploration\n",
        "\n",
        "categorical_cols = ['region', 'city', 'parent_category_name', 'category_name', 'user_type']\n",
        "\n",
        "for col in categorical_cols:\n",
        "    print(f\"\\nValue counts for {col}:\")\n",
        "    print(train[col].value_counts().head())\n"
      ],
      "metadata": {
        "colab": {
          "base_uri": "https://localhost:8080/"
        },
        "id": "AgCmYZ8f3dRE",
        "outputId": "13ed6538-5091-445a-f3e2-e877b195b620"
      },
      "execution_count": 27,
      "outputs": [
        {
          "output_type": "stream",
          "name": "stdout",
          "text": [
            "\n",
            "Value counts for region:\n",
            "region\n",
            "Краснодарский край      141416\n",
            "Свердловская область     94475\n",
            "Ростовская область       89995\n",
            "Татарстан                81284\n",
            "Челябинская область      78339\n",
            "Name: count, dtype: int64\n",
            "\n",
            "Value counts for city:\n",
            "city\n",
            "Краснодар          63638\n",
            "Екатеринбург       63602\n",
            "Новосибирск        56929\n",
            "Ростов-на-Дону     52323\n",
            "Нижний Новгород    52010\n",
            "Name: count, dtype: int64\n",
            "\n",
            "Value counts for parent_category_name:\n",
            "parent_category_name\n",
            "Личные вещи            697623\n",
            "Для дома и дачи        178823\n",
            "Бытовая электроника    173008\n",
            "Недвижимость           153190\n",
            "Хобби и отдых           86011\n",
            "Name: count, dtype: int64\n",
            "\n",
            "Value counts for category_name:\n",
            "category_name\n",
            "Одежда, обувь, аксессуары     282753\n",
            "Детская одежда и обувь        270359\n",
            "Товары для детей и игрушки     99747\n",
            "Квартиры                       83670\n",
            "Телефоны                       65944\n",
            "Name: count, dtype: int64\n",
            "\n",
            "Value counts for user_type:\n",
            "user_type\n",
            "Private    1075706\n",
            "Company     347249\n",
            "Shop         80469\n",
            "Name: count, dtype: int64\n"
          ]
        }
      ]
    },
    {
      "cell_type": "code",
      "source": [
        "# Price Distribution (Log Scale)\n",
        "\n",
        "plt.figure(figsize=(10, 5))\n",
        "sns.boxplot(x=train['price'])\n",
        "plt.xscale('log')  # Log scale for better visibility\n",
        "plt.title('Price Distribution (Log Scale)')\n",
        "plt.xlabel('price')\n",
        "plt.grid(True)\n",
        "plt.show()\n"
      ],
      "metadata": {
        "colab": {
          "base_uri": "https://localhost:8080/",
          "height": 499
        },
        "id": "Zf3AR6mj3ijs",
        "outputId": "35fb671f-9524-4a67-afdd-ff313e0b4fba"
      },
      "execution_count": 28,
      "outputs": [
        {
          "output_type": "display_data",
          "data": {
            "text/plain": [
              "<Figure size 1000x500 with 1 Axes>"
            ],
            "image/png": "[encoded data removed]"
          },
          "metadata": {}
        }
      ]
    },
    {
      "cell_type": "markdown",
      "source": [
        "### EDA Sumary\n",
        "\n",
        "#### Target Value– deal_probability\n",
        "\n",
        "- The value of 0.0 is quite dominant. This means most listings did not convert into sales.\n",
        "\n",
        "- The distribution is skewed to the right, with most values clustered between 0.0 and 0.2.\n",
        "\n",
        "- This indicates an unbalanced target variable → this should be taken into account during modeling (e.g., log-transformation is not required, but custom loss functions can be considered).\n",
        "\n",
        "#### price Variable\n",
        "- Extreme outliers are present (e.g., values above 10⁹).\n",
        "\n",
        "- The log scale boxplot clearly demonstrates this.\n",
        "\n",
        "- During data cleaning:\n",
        "\n",
        "  - Extreme outliers should be eliminated (limits such as price > 10^6 can be tried).\n",
        "\n",
        "  - Missing prices should be filled in or may not be included in the model.\n",
        "\n",
        "→ param_2 ve param_3 is very incomplete; therefore, it is either filled in as \"missing\" instead of \"NaN\" or used optionally in the model."
      ],
      "metadata": {
        "id": "HjKbym4_4CBp"
      }
    },
    {
      "cell_type": "markdown",
      "source": [
        "### Feature Engineering\n",
        "\n",
        "#### Planned Feature Engineering:\n",
        "\n",
        "1. Price column cleanup (outliers and log transformation)\n",
        "2. Filling in missing data\n",
        "3. param_1, param_2, param_3 → fill in missing data as \"missing\"\n",
        "4. Date attributes (activation_date) → day, month, weekend\n",
        "5. Length-based attributes: title_len, desc_len, num_images\n",
        "6. Digitizing categorical variables with Label Encoding\n",
        "7. Columns such as user_type, region, parent_category_name, and category_name will be prepared for encoding"
      ],
      "metadata": {
        "id": "yzBcdy2n5FAA"
      }
    },
    {
      "cell_type": "code",
      "source": [
        "# Data Cleaning & Feature Engineering\n",
        "\n",
        "from sklearn.preprocessing import LabelEncoder\n",
        "import numpy as np\n",
        "\n",
        "# Copy dataset\n",
        "df = train.copy()\n",
        "\n",
        "# Fill missing param values with 'missing'\n",
        "for col in ['param_1', 'param_2', 'param_3']:\n",
        "    df[col] = df[col].fillna('missing')\n",
        "\n",
        "# Fill missing description with empty string\n",
        "df['description'] = df['description'].fillna('')\n",
        "\n",
        "# Fill missing price with 0 and clip extreme values\n",
        "df['price'] = df['price'].fillna(0)\n",
        "df['price'] = df['price'].clip(0, 1e6)  # Remove outliers\n",
        "df['log_price'] = np.log1p(df['price'])  # Log transform\n",
        "\n",
        "# Fill missing image columns\n",
        "df['image'] = df['image'].fillna('no_image')\n",
        "df['image_top_1'] = df['image_top_1'].fillna(-1).astype(int)\n",
        "\n",
        "# Date features\n",
        "df['activation_date'] = pd.to_datetime(df['activation_date'])\n",
        "df['activation_weekday'] = df['activation_date'].dt.weekday\n",
        "df['activation_week'] = df['activation_date'].dt.isocalendar().week\n",
        "df['activation_day'] = df['activation_date'].dt.day\n",
        "df['activation_month'] = df['activation_date'].dt.month\n",
        "\n",
        "# Text length features\n",
        "df['title_len'] = df['title'].apply(lambda x: len(str(x)))\n",
        "df['description_len'] = df['description'].apply(lambda x: len(str(x).split()))\n",
        "\n",
        "# Encode categorical variables (Label Encoding)\n",
        "cat_cols = ['region', 'city', 'parent_category_name', 'category_name',\n",
        "            'param_1', 'param_2', 'param_3', 'user_type']\n",
        "\n",
        "le_dict = {}\n",
        "for col in cat_cols:\n",
        "    le = LabelEncoder()\n",
        "    df[col] = le.fit_transform(df[col])\n",
        "    le_dict[col] = le  # Save encoders for future use\n",
        "\n",
        "# Final features for training\n",
        "feature_cols = ['region', 'city', 'parent_category_name', 'category_name',\n",
        "                'param_1', 'param_2', 'param_3', 'user_type',\n",
        "                'log_price', 'item_seq_number', 'image_top_1',\n",
        "                'activation_weekday', 'activation_week', 'activation_day', 'activation_month',\n",
        "                'title_len', 'description_len']\n",
        "\n",
        "X = df[feature_cols]\n",
        "y = df['deal_probability']\n"
      ],
      "metadata": {
        "id": "LviFfRFn3qv9"
      },
      "execution_count": 29,
      "outputs": []
    },
    {
      "cell_type": "code",
      "source": [
        "print(\"X shape:\", X.shape)\n",
        "print(\"Target (y) preview:\", y.head())\n"
      ],
      "metadata": {
        "colab": {
          "base_uri": "https://localhost:8080/"
        },
        "id": "SMxS-LAF5h9r",
        "outputId": "90e49f3d-7fd0-4f05-e0b1-712a17c97ebc"
      },
      "execution_count": 30,
      "outputs": [
        {
          "output_type": "stream",
          "name": "stdout",
          "text": [
            "X shape: (1503424, 17)\n",
            "Target (y) preview: 0    0.12789\n",
            "1    0.00000\n",
            "2    0.43177\n",
            "3    0.80323\n",
            "4    0.20797\n",
            "Name: deal_probability, dtype: float64\n"
          ]
        }
      ]
    },
    {
      "cell_type": "code",
      "source": [
        "# LightGBM Model Training\n",
        "\n",
        "from sklearn.model_selection import train_test_split\n",
        "from sklearn.metrics import mean_squared_error\n",
        "import numpy as np\n",
        "import lightgbm as lgb\n",
        "from lightgbm import early_stopping, log_evaluation\n",
        "\n",
        "# Split the data\n",
        "X_train, X_val, y_train, y_val = train_test_split(\n",
        "    X, y, test_size=0.2, random_state=42)\n",
        "\n",
        "# LightGBM datasets\n",
        "train_set = lgb.Dataset(X_train, y_train)\n",
        "val_set = lgb.Dataset(X_val, y_val)\n",
        "\n",
        "# Model parameters\n",
        "params = {\n",
        "    'objective': 'regression',\n",
        "    'metric': 'rmse',\n",
        "    'learning_rate': 0.1,\n",
        "    'num_leaves': 31,\n",
        "    'max_depth': -1,\n",
        "    'verbose': -1,\n",
        "    'random_state': 42\n",
        "}\n",
        "\n",
        "# Train the model with callbacks\n",
        "model = lgb.train(\n",
        "    params,\n",
        "    train_set,\n",
        "    valid_sets=[train_set, val_set],\n",
        "    num_boost_round=1000,\n",
        "    callbacks=[\n",
        "        early_stopping(stopping_rounds=50),\n",
        "        log_evaluation(period=100)\n",
        "    ]\n",
        ")\n",
        "\n",
        "# Predictions and RMSE\n",
        "y_pred = model.predict(X_val)\n",
        "\n",
        "# Calculate RMSE manually\n",
        "mse = mean_squared_error(y_val, y_pred)\n",
        "rmse = np.sqrt(mse)\n",
        "print(f\"\\nValidation RMSE: {rmse:.5f}\")\n"
      ],
      "metadata": {
        "colab": {
          "base_uri": "https://localhost:8080/"
        },
        "id": "yP1Dtz9k5lx8",
        "outputId": "b1a0152a-d95e-449d-de24-faaf06014633"
      },
      "execution_count": 33,
      "outputs": [
        {
          "output_type": "stream",
          "name": "stdout",
          "text": [
            "Training until validation scores don't improve for 50 rounds\n",
            "[100]\ttraining's rmse: 0.230327\tvalid_1's rmse: 0.230372\n",
            "[200]\ttraining's rmse: 0.228439\tvalid_1's rmse: 0.228827\n",
            "[300]\ttraining's rmse: 0.227216\tvalid_1's rmse: 0.228039\n",
            "[400]\ttraining's rmse: 0.226212\tvalid_1's rmse: 0.227469\n",
            "[500]\ttraining's rmse: 0.225402\tvalid_1's rmse: 0.227111\n",
            "[600]\ttraining's rmse: 0.224659\tvalid_1's rmse: 0.226828\n",
            "[700]\ttraining's rmse: 0.224026\tvalid_1's rmse: 0.226638\n",
            "[800]\ttraining's rmse: 0.223407\tvalid_1's rmse: 0.226472\n",
            "[900]\ttraining's rmse: 0.222833\tvalid_1's rmse: 0.226333\n",
            "[1000]\ttraining's rmse: 0.222296\tvalid_1's rmse: 0.226237\n",
            "Did not meet early stopping. Best iteration is:\n",
            "[1000]\ttraining's rmse: 0.222296\tvalid_1's rmse: 0.226237\n",
            "\n",
            "Validation RMSE: 0.22624\n"
          ]
        }
      ]
    },
    {
      "cell_type": "code",
      "source": [
        "!pip install optuna -q\n"
      ],
      "metadata": {
        "colab": {
          "base_uri": "https://localhost:8080/"
        },
        "id": "68s01iQW56DN",
        "outputId": "9f1ed9ae-30db-43e3-c1a9-292ec35e4cba"
      },
      "execution_count": 34,
      "outputs": [
        {
          "output_type": "stream",
          "name": "stdout",
          "text": [
            "\u001b[?25l   \u001b[90m━━━━━━━━━━━━━━━━━━━━━━━━━━━━━━━━━━━━━━━━\u001b[0m \u001b[32m0.0/395.9 kB\u001b[0m \u001b[31m?\u001b[0m eta \u001b[36m-:--:--\u001b[0m\r\u001b[2K   \u001b[90m━━━━━━━━━━━━━━━━━━━━━━━━━━━━━━━━━━━━━━━━\u001b[0m \u001b[32m395.9/395.9 kB\u001b[0m \u001b[31m16.0 MB/s\u001b[0m eta \u001b[36m0:00:00\u001b[0m\n",
            "\u001b[?25h\u001b[?25l   \u001b[90m━━━━━━━━━━━━━━━━━━━━━━━━━━━━━━━━━━━━━━━━\u001b[0m \u001b[32m0.0/247.0 kB\u001b[0m \u001b[31m?\u001b[0m eta \u001b[36m-:--:--\u001b[0m\r\u001b[2K   \u001b[90m━━━━━━━━━━━━━━━━━━━━━━━━━━━━━━━━━━━━━━━━\u001b[0m \u001b[32m247.0/247.0 kB\u001b[0m \u001b[31m15.6 MB/s\u001b[0m eta \u001b[36m0:00:00\u001b[0m\n",
            "\u001b[?25h"
          ]
        }
      ]
    },
    {
      "cell_type": "code",
      "source": [
        "# Optuna ile LightGBM Tuning\n",
        "\n",
        "import optuna\n",
        "from sklearn.model_selection import train_test_split\n",
        "from sklearn.metrics import mean_squared_error\n",
        "\n",
        "# Split once to speed up\n",
        "X_train, X_val, y_train, y_val = train_test_split(X, y, test_size=0.2, random_state=42)\n",
        "\n",
        "def objective(trial):\n",
        "    param = {\n",
        "        'objective': 'regression',\n",
        "        'metric': 'rmse',\n",
        "        'verbosity': -1,\n",
        "        'boosting_type': 'gbdt',\n",
        "        'random_state': 42,\n",
        "        'learning_rate': trial.suggest_float(\"learning_rate\", 0.01, 0.1),\n",
        "        'num_leaves': trial.suggest_int(\"num_leaves\", 31, 256),\n",
        "        'min_child_samples': trial.suggest_int(\"min_child_samples\", 10, 100),\n",
        "        'feature_fraction': trial.suggest_float(\"feature_fraction\", 0.6, 1.0),\n",
        "        'bagging_fraction': trial.suggest_float(\"bagging_fraction\", 0.6, 1.0),\n",
        "        'bagging_freq': trial.suggest_int(\"bagging_freq\", 1, 10),\n",
        "        'max_depth': trial.suggest_int(\"max_depth\", 5, 20),\n",
        "    }\n",
        "\n",
        "    train_set = lgb.Dataset(X_train, y_train)\n",
        "    val_set = lgb.Dataset(X_val, y_val)\n",
        "\n",
        "    model = lgb.train(\n",
        "        param,\n",
        "        train_set,\n",
        "        valid_sets=[val_set],\n",
        "        num_boost_round=1000,\n",
        "        callbacks=[\n",
        "            lgb.early_stopping(stopping_rounds=50, verbose=False),\n",
        "            lgb.log_evaluation(period=0)\n",
        "        ]\n",
        "    )\n",
        "\n",
        "    preds = model.predict(X_val)\n",
        "    mse = mean_squared_error(y_val, preds)\n",
        "    rmse = np.sqrt(mse)\n",
        "    return rmse\n",
        "\n",
        "study = optuna.create_study(direction=\"minimize\")\n",
        "study.optimize(objective, n_trials=20)\n",
        "\n",
        "print(\"✅ Best parameters:\", study.best_trial.params)\n",
        "print(\"✅ Best RMSE:\", study.best_value)\n"
      ],
      "metadata": {
        "colab": {
          "base_uri": "https://localhost:8080/"
        },
        "id": "7CIW9KY67PXL",
        "outputId": "7be6f1fd-7eab-4855-d998-f0c938b8c6d1"
      },
      "execution_count": 37,
      "outputs": [
        {
          "output_type": "stream",
          "name": "stderr",
          "text": [
            "[I 2025-07-21 07:55:35,992] A new study created in memory with name: no-name-33225ee8-2133-486b-9c82-99af0ac1282c\n",
            "[I 2025-07-21 07:56:36,317] Trial 0 finished with value: 0.2262966727411082 and parameters: {'learning_rate': 0.017017337474511503, 'num_leaves': 144, 'min_child_samples': 44, 'feature_fraction': 0.6312660883127228, 'bagging_fraction': 0.7128178591331684, 'bagging_freq': 10, 'max_depth': 15}. Best is trial 0 with value: 0.2262966727411082.\n",
            "[I 2025-07-21 07:57:40,635] Trial 1 finished with value: 0.22529858566572908 and parameters: {'learning_rate': 0.08671680112150357, 'num_leaves': 190, 'min_child_samples': 39, 'feature_fraction': 0.9498427124233668, 'bagging_fraction': 0.9428528399477862, 'bagging_freq': 6, 'max_depth': 8}. Best is trial 1 with value: 0.22529858566572908.\n",
            "[I 2025-07-21 07:58:31,619] Trial 2 finished with value: 0.22599161967160025 and parameters: {'learning_rate': 0.07168335184139563, 'num_leaves': 75, 'min_child_samples': 64, 'feature_fraction': 0.8950824899521259, 'bagging_fraction': 0.6401748745445889, 'bagging_freq': 4, 'max_depth': 7}. Best is trial 1 with value: 0.22529858566572908.\n",
            "[I 2025-07-21 07:59:11,340] Trial 3 finished with value: 0.22623295482849873 and parameters: {'learning_rate': 0.028031312576060848, 'num_leaves': 95, 'min_child_samples': 76, 'feature_fraction': 0.7760192303280964, 'bagging_fraction': 0.6186399665364873, 'bagging_freq': 4, 'max_depth': 16}. Best is trial 1 with value: 0.22529858566572908.\n",
            "[I 2025-07-21 07:59:59,899] Trial 4 finished with value: 0.22498797236204066 and parameters: {'learning_rate': 0.04194451575633416, 'num_leaves': 235, 'min_child_samples': 53, 'feature_fraction': 0.7220911449895095, 'bagging_fraction': 0.9952911543686582, 'bagging_freq': 5, 'max_depth': 17}. Best is trial 4 with value: 0.22498797236204066.\n",
            "[I 2025-07-21 08:00:28,654] Trial 5 finished with value: 0.22629100586848386 and parameters: {'learning_rate': 0.06752472568773277, 'num_leaves': 74, 'min_child_samples': 77, 'feature_fraction': 0.9189453510509772, 'bagging_fraction': 0.9021178726127747, 'bagging_freq': 1, 'max_depth': 6}. Best is trial 4 with value: 0.22498797236204066.\n",
            "[I 2025-07-21 08:01:22,968] Trial 6 finished with value: 0.22566773813457475 and parameters: {'learning_rate': 0.017090390109390778, 'num_leaves': 256, 'min_child_samples': 23, 'feature_fraction': 0.8271043282309252, 'bagging_fraction': 0.7335528519438442, 'bagging_freq': 5, 'max_depth': 18}. Best is trial 4 with value: 0.22498797236204066.\n",
            "[I 2025-07-21 08:01:53,924] Trial 7 finished with value: 0.22533887415214596 and parameters: {'learning_rate': 0.08976831359906384, 'num_leaves': 88, 'min_child_samples': 90, 'feature_fraction': 0.7622115812109204, 'bagging_fraction': 0.8653591998650754, 'bagging_freq': 10, 'max_depth': 18}. Best is trial 4 with value: 0.22498797236204066.\n",
            "[I 2025-07-21 08:02:37,475] Trial 8 finished with value: 0.23062950580230834 and parameters: {'learning_rate': 0.010505155421060902, 'num_leaves': 210, 'min_child_samples': 27, 'feature_fraction': 0.9196996243304925, 'bagging_fraction': 0.8130525745783499, 'bagging_freq': 2, 'max_depth': 6}. Best is trial 4 with value: 0.22498797236204066.\n",
            "[I 2025-07-21 08:03:08,735] Trial 9 finished with value: 0.22682571457936448 and parameters: {'learning_rate': 0.04962621559498264, 'num_leaves': 62, 'min_child_samples': 79, 'feature_fraction': 0.6713844984592949, 'bagging_fraction': 0.808773814286115, 'bagging_freq': 1, 'max_depth': 6}. Best is trial 4 with value: 0.22498797236204066.\n",
            "[I 2025-07-21 08:04:13,540] Trial 10 finished with value: 0.22504701253754272 and parameters: {'learning_rate': 0.04034599749355432, 'num_leaves': 248, 'min_child_samples': 57, 'feature_fraction': 0.6957841245855516, 'bagging_fraction': 0.9984087372534178, 'bagging_freq': 7, 'max_depth': 11}. Best is trial 4 with value: 0.22498797236204066.\n",
            "[I 2025-07-21 08:05:21,490] Trial 11 finished with value: 0.22512340376397033 and parameters: {'learning_rate': 0.04200409196368795, 'num_leaves': 241, 'min_child_samples': 54, 'feature_fraction': 0.707631241835179, 'bagging_fraction': 0.9942335106552171, 'bagging_freq': 7, 'max_depth': 10}. Best is trial 4 with value: 0.22498797236204066.\n",
            "[I 2025-07-21 08:06:09,925] Trial 12 finished with value: 0.22523416094157248 and parameters: {'learning_rate': 0.03782666324567676, 'num_leaves': 189, 'min_child_samples': 60, 'feature_fraction': 0.6075749118844, 'bagging_fraction': 0.9901534566407002, 'bagging_freq': 8, 'max_depth': 12}. Best is trial 4 with value: 0.22498797236204066.\n",
            "[I 2025-07-21 08:06:50,329] Trial 13 finished with value: 0.22521334961619252 and parameters: {'learning_rate': 0.05857875248220025, 'num_leaves': 224, 'min_child_samples': 10, 'feature_fraction': 0.7142568553542794, 'bagging_fraction': 0.9397431157439239, 'bagging_freq': 8, 'max_depth': 20}. Best is trial 4 with value: 0.22498797236204066.\n",
            "[I 2025-07-21 08:07:35,292] Trial 14 finished with value: 0.22567377633488034 and parameters: {'learning_rate': 0.029828569302177216, 'num_leaves': 152, 'min_child_samples': 48, 'feature_fraction': 0.8346607484494045, 'bagging_fraction': 0.8714751698589219, 'bagging_freq': 6, 'max_depth': 12}. Best is trial 4 with value: 0.22498797236204066.\n",
            "[I 2025-07-21 08:08:28,334] Trial 15 finished with value: 0.2250448623433695 and parameters: {'learning_rate': 0.05323198534118091, 'num_leaves': 171, 'min_child_samples': 100, 'feature_fraction': 0.7168524726954626, 'bagging_fraction': 0.94458647555757, 'bagging_freq': 3, 'max_depth': 14}. Best is trial 4 with value: 0.22498797236204066.\n",
            "[I 2025-07-21 08:09:07,275] Trial 16 finished with value: 0.22528720497821317 and parameters: {'learning_rate': 0.05699411441357523, 'num_leaves': 116, 'min_child_samples': 99, 'feature_fraction': 0.7425057619318336, 'bagging_fraction': 0.9356685635582636, 'bagging_freq': 3, 'max_depth': 14}. Best is trial 4 with value: 0.22498797236204066.\n",
            "[I 2025-07-21 08:09:48,725] Trial 17 finished with value: 0.22517610664677037 and parameters: {'learning_rate': 0.07410227231629138, 'num_leaves': 168, 'min_child_samples': 67, 'feature_fraction': 0.6631045729609039, 'bagging_fraction': 0.8505405585463239, 'bagging_freq': 3, 'max_depth': 17}. Best is trial 4 with value: 0.22498797236204066.\n",
            "[I 2025-07-21 08:10:32,382] Trial 18 finished with value: 0.22552038754717366 and parameters: {'learning_rate': 0.05049860583898649, 'num_leaves': 123, 'min_child_samples': 33, 'feature_fraction': 0.8231441503671687, 'bagging_fraction': 0.7553804302424533, 'bagging_freq': 4, 'max_depth': 14}. Best is trial 4 with value: 0.22498797236204066.\n",
            "[I 2025-07-21 08:11:13,550] Trial 19 finished with value: 0.22503462997417734 and parameters: {'learning_rate': 0.06235963270186552, 'num_leaves': 184, 'min_child_samples': 90, 'feature_fraction': 0.8705516548321466, 'bagging_fraction': 0.9102445733460396, 'bagging_freq': 5, 'max_depth': 20}. Best is trial 4 with value: 0.22498797236204066.\n"
          ]
        },
        {
          "output_type": "stream",
          "name": "stdout",
          "text": [
            "✅ Best parameters: {'learning_rate': 0.04194451575633416, 'num_leaves': 235, 'min_child_samples': 53, 'feature_fraction': 0.7220911449895095, 'bagging_fraction': 0.9952911543686582, 'bagging_freq': 5, 'max_depth': 17}\n",
            "✅ Best RMSE: 0.22498797236204066\n"
          ]
        }
      ]
    },
    {
      "cell_type": "code",
      "source": [
        "# Final Model Training\n",
        "\n",
        "best_params = {\n",
        "    'objective': 'regression',\n",
        "    'metric': 'rmse',\n",
        "    'boosting_type': 'gbdt',\n",
        "    'verbosity': -1,\n",
        "    'random_state': 42,\n",
        "    'learning_rate': 0.04194451575633416,\n",
        "    'num_leaves': 235,\n",
        "    'min_child_samples': 53,\n",
        "    'feature_fraction': 0.7220911449895095,\n",
        "    'bagging_fraction': 0.9952911543686582,\n",
        "    'bagging_freq': 5,\n",
        "    'max_depth': 17,\n",
        "}\n",
        "\n",
        "train_set = lgb.Dataset(X, y)\n",
        "\n",
        "final_model = lgb.train(\n",
        "    best_params,\n",
        "    train_set,\n",
        "    num_boost_round=1000,\n",
        "    callbacks=[\n",
        "        lgb.log_evaluation(period=100)\n",
        "    ]\n",
        ")\n",
        "\n"
      ],
      "metadata": {
        "id": "JozhaoPL7Vgr"
      },
      "execution_count": 39,
      "outputs": []
    },
    {
      "cell_type": "code",
      "source": [
        "# Test Prediction & Submission\n",
        "\n",
        "# Copy test dataframe\n",
        "test_df = test.copy()\n",
        "\n",
        "# Fill missing values\n",
        "for col in ['param_1', 'param_2', 'param_3']:\n",
        "    test_df[col] = test_df[col].fillna('missing')\n",
        "test_df['description'] = test_df['description'].fillna('')\n",
        "test_df['price'] = test_df['price'].fillna(0).clip(0, 1e6)\n",
        "test_df['log_price'] = np.log1p(test_df['price'])\n",
        "test_df['image'] = test_df['image'].fillna('no_image')\n",
        "test_df['image_top_1'] = test_df['image_top_1'].fillna(-1).astype(int)\n",
        "test_df['activation_date'] = pd.to_datetime(test_df['activation_date'])\n",
        "test_df['activation_weekday'] = test_df['activation_date'].dt.weekday\n",
        "test_df['activation_week'] = test_df['activation_date'].dt.isocalendar().week\n",
        "test_df['activation_day'] = test_df['activation_date'].dt.day\n",
        "test_df['activation_month'] = test_df['activation_date'].dt.month\n",
        "test_df['title_len'] = test_df['title'].apply(lambda x: len(str(x)))\n",
        "test_df['description_len'] = test_df['description'].apply(lambda x: len(str(x).split()))\n",
        "\n",
        "# Label encoding (same as train)\n",
        "for col in le_dict:\n",
        "    test_df[col] = test_df[col].map(lambda s: s if s in le_dict[col].classes_ else 'missing')\n",
        "    le_dict[col].classes_ = np.append(le_dict[col].classes_, 'missing')\n",
        "    test_df[col] = le_dict[col].transform(test_df[col])\n",
        "\n",
        "# Select features\n",
        "X_test = test_df[feature_cols]\n",
        "\n",
        "# Predict\n",
        "test_preds = final_model.predict(X_test)\n",
        "test_preds = np.clip(test_preds, 0, 1)  # Ensure range [0,1]\n",
        "\n",
        "# Create submission\n",
        "submission = pd.DataFrame({\n",
        "    'item_id': test_df['item_id'],\n",
        "    'deal_probability': test_preds\n",
        "})\n",
        "\n",
        "submission.to_csv('submission.csv', index=False)\n",
        "print(\"✅ submission.csv saved successfully.\")\n"
      ],
      "metadata": {
        "colab": {
          "base_uri": "https://localhost:8080/"
        },
        "id": "HpGlPCqxES9m",
        "outputId": "f176145d-6d14-48c1-f4b0-2ca7dd205d83"
      },
      "execution_count": 40,
      "outputs": [
        {
          "output_type": "stream",
          "name": "stdout",
          "text": [
            "✅ submission.csv saved successfully.\n"
          ]
        }
      ]
    },
    {
      "cell_type": "code",
      "source": [
        "# Save model to file\n",
        "\n",
        "final_model.save_model('final_lgbm_model.txt')\n",
        "print(\"✅ Model saved as final_lgbm_model.txt\")\n"
      ],
      "metadata": {
        "colab": {
          "base_uri": "https://localhost:8080/"
        },
        "id": "cxgflJHPE4Gd",
        "outputId": "a6456447-554b-4d7f-b295-92bebc792fdc"
      },
      "execution_count": 41,
      "outputs": [
        {
          "output_type": "stream",
          "name": "stdout",
          "text": [
            "✅ Model saved as final_lgbm_model.txt\n"
          ]
        }
      ]
    },
    {
      "cell_type": "code",
      "source": [
        "# Feature Importance Visualization\n",
        "\n",
        "import matplotlib.pyplot as plt\n",
        "\n",
        "# Plot top 20 most important features\n",
        "lgb.plot_importance(final_model, max_num_features=20, importance_type='gain', figsize=(10, 6))\n",
        "plt.title(\"Top 20 Feature Importances (Gain)\")\n",
        "plt.grid(True)\n",
        "plt.tight_layout()\n",
        "plt.show()\n"
      ],
      "metadata": {
        "colab": {
          "base_uri": "https://localhost:8080/",
          "height": 601
        },
        "id": "jcrX7TTAFZcG",
        "outputId": "1568e2fe-06aa-46b9-f4c1-ffa96aab5727"
      },
      "execution_count": 42,
      "outputs": [
        {
          "output_type": "display_data",
          "data": {
            "text/plain": [
              "<Figure size 1000x600 with 1 Axes>"
            ],
            "image/png": "[encoded data removed]"
          },
          "metadata": {}
        }
      ]
    },
    {
      "cell_type": "code",
      "source": [
        "# Text-Based Prediction with TF-IDF + Ridge Regression\n",
        "\n",
        "from sklearn.linear_model import Ridge\n",
        "from sklearn.feature_extraction.text import TfidfVectorizer\n",
        "from sklearn.model_selection import train_test_split\n",
        "from sklearn.metrics import mean_squared_error\n",
        "import scipy.sparse as sp\n",
        "import numpy as np\n"
      ],
      "metadata": {
        "id": "cQhiIfWZF1dX"
      },
      "execution_count": 43,
      "outputs": []
    },
    {
      "cell_type": "code",
      "source": [
        "# Merge texts\n",
        "\n",
        "train['text'] = train['title'].fillna('') + ' ' + train['description'].fillna('')\n",
        "test['text'] = test['title'].fillna('') + ' ' + test['description'].fillna('')\n",
        "\n",
        "# TF-IDF features (title + description)\n",
        "tfidf = TfidfVectorizer(\n",
        "    max_features=50000,\n",
        "    ngram_range=(1, 2),\n",
        "    stop_words=None\n",
        ")\n",
        "\n",
        "X_text = tfidf.fit_transform(train['text'])\n",
        "X_test_text = tfidf.transform(test['text'])\n",
        "\n",
        "y_text = train['deal_probability']\n"
      ],
      "metadata": {
        "id": "tAAVQe-7HRto"
      },
      "execution_count": 45,
      "outputs": []
    },
    {
      "cell_type": "code",
      "source": [
        "# Evaluation with # Split for validation\n",
        "X_train_text, X_val_text, y_train_text, y_val_text = train_test_split(\n",
        "    X_text, y_text, test_size=0.2, random_state=42)\n",
        "\n",
        "# Ridge model\n",
        "ridge = Ridge(alpha=1.0, random_state=42)\n",
        "ridge.fit(X_train_text, y_train_text)\n",
        "\n",
        "# Predict & Evaluate\n",
        "val_preds = ridge.predict(X_val_text)\n",
        "rmse_ridge = np.sqrt(mean_squared_error(y_val_text, val_preds))\n",
        "print(f\"✅ Ridge Validation RMSE: {rmse_ridge:.5f}\")\n"
      ],
      "metadata": {
        "colab": {
          "base_uri": "https://localhost:8080/"
        },
        "id": "vn4Z7w5_HdHB",
        "outputId": "2f67b267-da10-4451-9485-a161f9c5fb8d"
      },
      "execution_count": 46,
      "outputs": [
        {
          "output_type": "stream",
          "name": "stdout",
          "text": [
            "✅ Ridge Validation RMSE: 0.23256\n"
          ]
        }
      ]
    },
    {
      "cell_type": "code",
      "source": [
        "# Test predict\n",
        "\n",
        "ridge_preds_test = ridge.predict(X_test_text)\n",
        "ridge_preds_test = np.clip(ridge_preds_test, 0, 1)  # Bound between 0 and 1\n"
      ],
      "metadata": {
        "id": "1sSpsky2Hn-L"
      },
      "execution_count": 47,
      "outputs": []
    },
    {
      "cell_type": "code",
      "source": [
        "# Ensemble (LightGBM + Ridge) Prediction Submission\n",
        "\n",
        "# Ensemble predictions: weighted average\n",
        "final_preds = 0.6 * test_preds + 0.4 * ridge_preds_test\n",
        "final_preds = np.clip(final_preds, 0, 1)  # Make sure predictions are in [0, 1]\n",
        "\n",
        "# Create submission file\n",
        "submission_ensemble = pd.DataFrame({\n",
        "    'item_id': test['item_id'],\n",
        "    'deal_probability': final_preds\n",
        "})\n",
        "\n",
        "submission_ensemble.to_csv('submission_ensemble.csv', index=False)\n",
        "print(\"✅ Ensemble submission.csv saved as submission_ensemble.csv\")\n"
      ],
      "metadata": {
        "colab": {
          "base_uri": "https://localhost:8080/"
        },
        "id": "P7nWfcPaIpla",
        "outputId": "c7b7e1ad-8f89-4e3e-df10-5b95f7b10caa"
      },
      "execution_count": 48,
      "outputs": [
        {
          "output_type": "stream",
          "name": "stdout",
          "text": [
            "✅ Ensemble submission.csv saved as submission_ensemble.csv\n"
          ]
        }
      ]
    },
    {
      "cell_type": "code",
      "source": [
        "import joblib\n",
        "\n",
        "# Save Ridge model\n",
        "\n",
        "joblib.dump(ridge, 'ridge_model.pkl')\n",
        "print(\"✅ Ridge model saved as ridge_model.pkl\")\n"
      ],
      "metadata": {
        "colab": {
          "base_uri": "https://localhost:8080/"
        },
        "id": "GZ5bxn6SI9K7",
        "outputId": "059375d4-f094-4408-fb4b-2a294962eb39"
      },
      "execution_count": 49,
      "outputs": [
        {
          "output_type": "stream",
          "name": "stdout",
          "text": [
            "✅ Ridge model saved as ridge_model.pkl\n"
          ]
        }
      ]
    },
    {
      "cell_type": "code",
      "source": [
        "# Save the trained vectorizer used in Ridge model\n",
        "\n",
        "joblib.dump(tfidf, 'tfidf_vectorizer.pkl')\n"
      ],
      "metadata": {
        "colab": {
          "base_uri": "https://localhost:8080/"
        },
        "id": "6AgpYQVxJfFj",
        "outputId": "5fcdb4b6-41b6-4117-b585-f28407aa4155"
      },
      "execution_count": 50,
      "outputs": [
        {
          "output_type": "execute_result",
          "data": {
            "text/plain": [
              "['tfidf_vectorizer.pkl']"
            ]
          },
          "metadata": {},
          "execution_count": 50
        }
      ]
    },
    {
      "cell_type": "code",
      "source": [],
      "metadata": {
        "id": "H-Da1DNFJ9cc"
      },
      "execution_count": null,
      "outputs": []
    }
  ]
}